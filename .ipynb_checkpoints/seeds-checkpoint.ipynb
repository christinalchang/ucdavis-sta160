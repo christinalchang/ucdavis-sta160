{
 "cells": [
  {
   "cell_type": "markdown",
   "metadata": {},
   "source": [
    "# Seeds Data Analysis"
   ]
  },
  {
   "cell_type": "code",
   "execution_count": 55,
   "metadata": {},
   "outputs": [],
   "source": [
    "# Import packages.\n",
    "import numpy as np\n",
    "import pandas as pd\n",
    "import seaborn as sns; sns.set()\n",
    "import matplotlib.pyplot as plt\n",
    "\n",
    "from sklearn.decomposition import PCA\n",
    "from sklearn.preprocessing import StandardScaler\n",
    "from sklearn.linear_model import LogisticRegression\n",
    "from sklearn.metrics import accuracy_score\n",
    "\n",
    "# Read the data.\n",
    "df = pd.read_table('./data/seeds_dataset.txt',sep=\"\\t\",header=None,\n",
    "                   names=[\"area\",\"perimeter\",\"compactness\",\"length\",\"width\",\"coef\",\"groove\",\"label\"])"
   ]
  },
  {
   "cell_type": "markdown",
   "metadata": {},
   "source": [
    "### Attribute Information:\n",
    "\n",
    "To construct the data, seven geometric parameters of wheat kernels were measured:\n",
    "1. area A,\n",
    "2. perimeter P,\n",
    "3. compactness C = 4*pi*A/P^2,\n",
    "4. length of kernel,\n",
    "5. width of kernel,\n",
    "6. asymmetry coefficient\n",
    "7. length of kernel groove.\n",
    "All of these parameters were real-valued continuous."
   ]
  },
  {
   "cell_type": "code",
   "execution_count": 4,
   "metadata": {},
   "outputs": [
    {
     "data": {
      "text/plain": [
       "area           float64\n",
       "perimeter      float64\n",
       "compactness    float64\n",
       "length         float64\n",
       "width          float64\n",
       "coef           float64\n",
       "groove         float64\n",
       "label            int64\n",
       "dtype: object"
      ]
     },
     "execution_count": 4,
     "metadata": {},
     "output_type": "execute_result"
    }
   ],
   "source": [
    "df.dtypes"
   ]
  },
  {
   "cell_type": "code",
   "execution_count": 3,
   "metadata": {},
   "outputs": [
    {
     "data": {
      "text/html": [
       "<div>\n",
       "<style scoped>\n",
       "    .dataframe tbody tr th:only-of-type {\n",
       "        vertical-align: middle;\n",
       "    }\n",
       "\n",
       "    .dataframe tbody tr th {\n",
       "        vertical-align: top;\n",
       "    }\n",
       "\n",
       "    .dataframe thead th {\n",
       "        text-align: right;\n",
       "    }\n",
       "</style>\n",
       "<table border=\"1\" class=\"dataframe\">\n",
       "  <thead>\n",
       "    <tr style=\"text-align: right;\">\n",
       "      <th></th>\n",
       "      <th>area</th>\n",
       "      <th>perimeter</th>\n",
       "      <th>compactness</th>\n",
       "      <th>length</th>\n",
       "      <th>width</th>\n",
       "      <th>coef</th>\n",
       "      <th>groove</th>\n",
       "      <th>label</th>\n",
       "    </tr>\n",
       "  </thead>\n",
       "  <tbody>\n",
       "    <tr>\n",
       "      <th>0</th>\n",
       "      <td>15.26</td>\n",
       "      <td>14.84</td>\n",
       "      <td>0.8710</td>\n",
       "      <td>5.763</td>\n",
       "      <td>3.312</td>\n",
       "      <td>2.221</td>\n",
       "      <td>5.220</td>\n",
       "      <td>1</td>\n",
       "    </tr>\n",
       "    <tr>\n",
       "      <th>1</th>\n",
       "      <td>14.88</td>\n",
       "      <td>14.57</td>\n",
       "      <td>0.8811</td>\n",
       "      <td>5.554</td>\n",
       "      <td>3.333</td>\n",
       "      <td>1.018</td>\n",
       "      <td>4.956</td>\n",
       "      <td>1</td>\n",
       "    </tr>\n",
       "    <tr>\n",
       "      <th>2</th>\n",
       "      <td>14.29</td>\n",
       "      <td>14.09</td>\n",
       "      <td>0.9050</td>\n",
       "      <td>5.291</td>\n",
       "      <td>3.337</td>\n",
       "      <td>2.699</td>\n",
       "      <td>4.825</td>\n",
       "      <td>1</td>\n",
       "    </tr>\n",
       "    <tr>\n",
       "      <th>3</th>\n",
       "      <td>13.84</td>\n",
       "      <td>13.94</td>\n",
       "      <td>0.8955</td>\n",
       "      <td>5.324</td>\n",
       "      <td>3.379</td>\n",
       "      <td>2.259</td>\n",
       "      <td>4.805</td>\n",
       "      <td>1</td>\n",
       "    </tr>\n",
       "    <tr>\n",
       "      <th>4</th>\n",
       "      <td>16.14</td>\n",
       "      <td>14.99</td>\n",
       "      <td>0.9034</td>\n",
       "      <td>5.658</td>\n",
       "      <td>3.562</td>\n",
       "      <td>1.355</td>\n",
       "      <td>5.175</td>\n",
       "      <td>1</td>\n",
       "    </tr>\n",
       "  </tbody>\n",
       "</table>\n",
       "</div>"
      ],
      "text/plain": [
       "    area  perimeter  compactness  length  width   coef  groove  label\n",
       "0  15.26      14.84       0.8710   5.763  3.312  2.221   5.220      1\n",
       "1  14.88      14.57       0.8811   5.554  3.333  1.018   4.956      1\n",
       "2  14.29      14.09       0.9050   5.291  3.337  2.699   4.825      1\n",
       "3  13.84      13.94       0.8955   5.324  3.379  2.259   4.805      1\n",
       "4  16.14      14.99       0.9034   5.658  3.562  1.355   5.175      1"
      ]
     },
     "execution_count": 3,
     "metadata": {},
     "output_type": "execute_result"
    }
   ],
   "source": [
    "df.head()"
   ]
  },
  {
   "cell_type": "markdown",
   "metadata": {},
   "source": [
    "1) How to compare multiple labels with respect to one single feature? Each label is attached to a 1-dim dataset of feature measurements. Datasets: Seed.\n",
    "\n",
    "2) How to see intrinsic differences among multiple labels with respect to multiple features? Each label is attached to a K-dim dataset of feature measurements. Datasets: Seed.\n",
    "\n",
    "3) How to deal with categorical features? Dataset: Automobile.\n",
    "\n",
    "4) How to measure associative relations between a categorical response variable and multiple covariate features. Datasets: Seedand Automobile datasets."
   ]
  },
  {
   "cell_type": "code",
   "execution_count": 4,
   "metadata": {},
   "outputs": [
    {
     "data": {
      "text/plain": [
       "(210, 8)"
      ]
     },
     "execution_count": 4,
     "metadata": {},
     "output_type": "execute_result"
    }
   ],
   "source": [
    "np.shape(df)"
   ]
  },
  {
   "cell_type": "markdown",
   "metadata": {},
   "source": [
    "## Data Preprocessing"
   ]
  },
  {
   "cell_type": "markdown",
   "metadata": {},
   "source": [
    "Convert label column from numerical to object type."
   ]
  },
  {
   "cell_type": "code",
   "execution_count": 15,
   "metadata": {},
   "outputs": [
    {
     "data": {
      "text/plain": [
       "area           float64\n",
       "perimeter      float64\n",
       "compactness    float64\n",
       "length         float64\n",
       "width          float64\n",
       "coef           float64\n",
       "groove         float64\n",
       "label           object\n",
       "dtype: object"
      ]
     },
     "execution_count": 15,
     "metadata": {},
     "output_type": "execute_result"
    }
   ],
   "source": [
    "df['label'] = df['label'].apply(str)\n",
    "df.dtypes"
   ]
  },
  {
   "cell_type": "markdown",
   "metadata": {},
   "source": [
    "## Data Visualization"
   ]
  },
  {
   "cell_type": "markdown",
   "metadata": {},
   "source": [
    "#### Visualize the dataset by using PCA"
   ]
  },
  {
   "cell_type": "code",
   "execution_count": 18,
   "metadata": {},
   "outputs": [],
   "source": [
    "x = df.iloc[:,:-1].values\n",
    "y = df.iloc[:,-1].values\n",
    "\n",
    "# standardize features\n",
    "x = StandardScaler().fit_transform(x)"
   ]
  },
  {
   "cell_type": "code",
   "execution_count": 19,
   "metadata": {},
   "outputs": [],
   "source": [
    "pca = PCA(n_components=2)\n",
    "pca_fit = pca.fit_transform(x)\n",
    "pca_fit_df = pd.DataFrame(pca_fit, columns = ['pc1', 'pc2'])\n",
    "pca_df = pd.concat([pca_fit_df, df[['label']]], axis = 1)"
   ]
  },
  {
   "cell_type": "code",
   "execution_count": 20,
   "metadata": {},
   "outputs": [
    {
     "data": {
      "text/plain": [
       "Text(0.5, 1.0, 'Principle Components of Seeds Dataset')"
      ]
     },
     "execution_count": 20,
     "metadata": {},
     "output_type": "execute_result"
    },
    {
     "data": {
      "image/png": "[encoded data removed]",
      "text/plain": [
       "<Figure size 720x576 with 1 Axes>"
      ]
     },
     "metadata": {},
     "output_type": "display_data"
    }
   ],
   "source": [
    "plt.figure(figsize=(10,8))\n",
    "sns.scatterplot(x = 'pc1', y = 'pc2', \n",
    "                hue = 'label', style = 'label', \n",
    "                s = 70, alpha = 0.7,\n",
    "                palette = 'bright', data = pca_df)\n",
    "plt.title('Principle Components of Seeds Dataset')"
   ]
  },
  {
   "cell_type": "markdown",
   "metadata": {},
   "source": [
    "#### Cluster the data using k-means and hierarchical clustering"
   ]
  },
  {
   "cell_type": "markdown",
   "metadata": {},
   "source": [
    "##### Hierarchical clustering"
   ]
  },
  {
   "cell_type": "code",
   "execution_count": 8,
   "metadata": {},
   "outputs": [
    {
     "data": {
      "image/png": "[encoded data removed]",
      "text/plain": [
       "<Figure size 1440x504 with 1 Axes>"
      ]
     },
     "metadata": {},
     "output_type": "display_data"
    }
   ],
   "source": [
    "import scipy.cluster.hierarchy as shc\n",
    "\n",
    "plt.figure(figsize=(20, 7))\n",
    "plt.title(\"Dendogram\")\n",
    "dend = shc.dendrogram(shc.linkage(x, method='ward'))"
   ]
  },
  {
   "cell_type": "markdown",
   "metadata": {},
   "source": [
    "Now we know there should be three clusters."
   ]
  },
  {
   "cell_type": "code",
   "execution_count": 9,
   "metadata": {},
   "outputs": [
    {
     "data": {
      "text/plain": [
       "array([0, 0, 0, 0, 0, 0, 0, 0, 0, 1, 0, 0, 0, 0, 0, 0, 0, 0, 0, 2, 0, 0,\n",
       "       0, 0, 0, 0, 0, 0, 0, 0, 0, 0, 0, 0, 0, 1, 0, 1, 0, 0, 0, 0, 0, 1,\n",
       "       0, 0, 0, 0, 0, 0, 0, 0, 0, 0, 0, 0, 0, 0, 0, 0, 0, 0, 0, 0, 0, 0,\n",
       "       0, 0, 0, 2, 1, 1, 1, 1, 1, 1, 1, 1, 1, 1, 1, 1, 1, 1, 1, 1, 1, 1,\n",
       "       1, 1, 1, 1, 1, 1, 1, 1, 1, 1, 1, 1, 1, 1, 1, 1, 1, 1, 1, 1, 1, 1,\n",
       "       1, 1, 1, 1, 1, 1, 1, 1, 1, 1, 1, 1, 1, 1, 0, 1, 1, 1, 1, 1, 1, 1,\n",
       "       1, 1, 1, 0, 1, 0, 0, 1, 2, 2, 2, 2, 2, 2, 0, 2, 2, 2, 2, 2, 2, 2,\n",
       "       2, 2, 2, 2, 2, 2, 2, 2, 2, 2, 2, 0, 2, 2, 2, 2, 2, 2, 2, 2, 2, 2,\n",
       "       2, 2, 2, 0, 2, 2, 2, 2, 2, 2, 2, 2, 2, 2, 2, 2, 2, 2, 2, 2, 2, 2,\n",
       "       2, 0, 2, 0, 2, 2, 2, 2, 2, 2, 2, 2])"
      ]
     },
     "execution_count": 9,
     "metadata": {},
     "output_type": "execute_result"
    }
   ],
   "source": [
    "from sklearn.cluster import AgglomerativeClustering\n",
    "\n",
    "cluster = AgglomerativeClustering(n_clusters=3, affinity='euclidean', linkage='ward')\n",
    "cluster.fit_predict(x)"
   ]
  },
  {
   "cell_type": "code",
   "execution_count": 10,
   "metadata": {},
   "outputs": [
    {
     "data": {
      "text/plain": [
       "<matplotlib.collections.PathCollection at 0x1a1b992290>"
      ]
     },
     "execution_count": 10,
     "metadata": {},
     "output_type": "execute_result"
    },
    {
     "data": {
      "image/png": "[encoded data removed]",
      "text/plain": [
       "<Figure size 720x504 with 1 Axes>"
      ]
     },
     "metadata": {},
     "output_type": "display_data"
    }
   ],
   "source": [
    "# Plot the clusters using the PCs, and color them using results from hierarchical clustering\n",
    "plt.figure(figsize=(10, 7))\n",
    "plt.scatter(pca_df.pc1, pca_df.pc2, c=cluster.labels_, cmap='rainbow')"
   ]
  },
  {
   "cell_type": "markdown",
   "metadata": {},
   "source": [
    "#### Clustermap"
   ]
  },
  {
   "cell_type": "code",
   "execution_count": 12,
   "metadata": {},
   "outputs": [
    {
     "data": {
      "text/plain": [
       "<seaborn.matrix.ClusterGrid at 0x1a1b2deb50>"
      ]
     },
     "execution_count": 12,
     "metadata": {},
     "output_type": "execute_result"
    },
    {
     "data": {
      "image/png": "[encoded data removed]",
      "text/plain": [
       "<Figure size 720x720 with 4 Axes>"
      ]
     },
     "metadata": {},
     "output_type": "display_data"
    }
   ],
   "source": [
    "sns.clustermap(df.corr(), center=0)"
   ]
  },
  {
   "cell_type": "markdown",
   "metadata": {},
   "source": [
    "## Classification of Wheat Types"
   ]
  },
  {
   "cell_type": "markdown",
   "metadata": {},
   "source": [
    "### Data Preprocessing"
   ]
  },
  {
   "cell_type": "markdown",
   "metadata": {},
   "source": [
    "#### Train test split using stratified sampling"
   ]
  },
  {
   "cell_type": "code",
   "execution_count": 36,
   "metadata": {},
   "outputs": [
    {
     "data": {
      "text/plain": [
       "2    0.333333\n",
       "1    0.333333\n",
       "3    0.333333\n",
       "Name: label, dtype: float64"
      ]
     },
     "execution_count": 36,
     "metadata": {},
     "output_type": "execute_result"
    }
   ],
   "source": [
    "from sklearn.model_selection import train_test_split\n",
    "\n",
    "X = df.drop('label',axis=1)\n",
    "y = df['label']\n",
    "\n",
    "X_train, X_test, y_train, y_test = train_test_split(X, y, test_size=0.3, stratify=y, random_state=42)\n",
    "\n",
    "pd.value_counts(y_train)/len(y_train)"
   ]
  },
  {
   "cell_type": "markdown",
   "metadata": {},
   "source": [
    "#### Feature scaling\n",
    "Some machine learning algorithms I will use are based on distances so we should scale the data."
   ]
  },
  {
   "cell_type": "code",
   "execution_count": 39,
   "metadata": {},
   "outputs": [],
   "source": [
    "scaler = StandardScaler()\n",
    "\n",
    "# Fit on training set\n",
    "scaler.fit(X_train)\n",
    "\n",
    "# Apply transform to both the training set and the test set\n",
    "X_train = scaler.transform(X_train)\n",
    "X_test = scaler.transform(X_test)"
   ]
  },
  {
   "cell_type": "code",
   "execution_count": null,
   "metadata": {},
   "outputs": [],
   "source": [
    "# from sklearn.preprocessing import MinMaxScaler\n",
    "\n",
    "# # Create the scaler object with a range of 0-1\n",
    "# scaler = MinMaxScaler(feature_range=(0, 1))\n",
    "\n",
    "# # Fit on the training data\n",
    "# scaler.fit(X_train)\n",
    "\n",
    "# # Transform both the training and testing data\n",
    "# X_train = scaler.transform(X_train)\n",
    "# X_test = scaler.transform(X_test)"
   ]
  },
  {
   "cell_type": "markdown",
   "metadata": {},
   "source": [
    "#### Feature selection?\n",
    "Features selection using embedded methods."
   ]
  },
  {
   "cell_type": "code",
   "execution_count": 51,
   "metadata": {},
   "outputs": [],
   "source": [
    "# from sklearn.linear_model import LassoCV\n",
    "# reg = LassoCV()\n",
    "# reg.fit(X, y)\n",
    "# print(\"Best alpha using built-in LassoCV: %f\" % reg.alpha_)\n",
    "# print(\"Best score using built-in LassoCV: %f\" %reg.score(X,y))\n",
    "# coef = pd.Series(reg.coef_, index = X.columns)"
   ]
  },
  {
   "cell_type": "markdown",
   "metadata": {},
   "source": [
    "### Logistic Regression"
   ]
  },
  {
   "cell_type": "code",
   "execution_count": 42,
   "metadata": {},
   "outputs": [
    {
     "data": {
      "text/plain": [
       "LogisticRegression(C=1.0, class_weight=None, dual=False, fit_intercept=True,\n",
       "                   intercept_scaling=1, l1_ratio=None, max_iter=100,\n",
       "                   multi_class='auto', n_jobs=None, penalty='l2',\n",
       "                   random_state=None, solver='lbfgs', tol=0.0001, verbose=0,\n",
       "                   warm_start=False)"
      ]
     },
     "execution_count": 42,
     "metadata": {},
     "output_type": "execute_result"
    }
   ],
   "source": [
    "# Fit model\n",
    "model = LogisticRegression(solver='lbfgs')\n",
    "model.fit(X_train, y_train)"
   ]
  },
  {
   "cell_type": "code",
   "execution_count": 56,
   "metadata": {},
   "outputs": [
    {
     "name": "stdout",
     "output_type": "stream",
     "text": [
      "Misclassified samples: 42\n",
      "Accuracy: 0.33\n"
     ]
    }
   ],
   "source": [
    "# use the model to make predictions with the test data\n",
    "y_pred = model.predict(X_test)\n",
    "\n",
    "# how did our model perform?\n",
    "count_misclassified = (y_test != y_pred).sum()\n",
    "print('Misclassified samples: {}'.format(count_misclassified))\n",
    "accuracy = accuracy_score(y_test, y_pred)\n",
    "print('Accuracy: {:.2f}'.format(accuracy))"
   ]
  },
  {
   "cell_type": "markdown",
   "metadata": {},
   "source": [
    "### K-nearest Neighbors"
   ]
  },
  {
   "cell_type": "code",
   "execution_count": 60,
   "metadata": {},
   "outputs": [
    {
     "data": {
      "text/plain": [
       "KNeighborsClassifier(algorithm='auto', leaf_size=30, metric='minkowski',\n",
       "                     metric_params=None, n_jobs=None, n_neighbors=10, p=2,\n",
       "                     weights='uniform')"
      ]
     },
     "execution_count": 60,
     "metadata": {},
     "output_type": "execute_result"
    }
   ],
   "source": [
    "from sklearn.neighbors import KNeighborsClassifier\n",
    "\n",
    "model = KNeighborsClassifier(n_neighbors=10)\n",
    "model.fit(X_train,y_train)"
   ]
  },
  {
   "cell_type": "code",
   "execution_count": 61,
   "metadata": {},
   "outputs": [
    {
     "name": "stdout",
     "output_type": "stream",
     "text": [
      "Misclassified samples: 42\n",
      "Accuracy: 0.33\n"
     ]
    }
   ],
   "source": [
    "# use the model to make predictions with the test data\n",
    "y_pred = model.predict(X_test)\n",
    "\n",
    "# how did our model perform?\n",
    "count_misclassified = (y_test != y_pred).sum()\n",
    "print('Misclassified samples: {}'.format(count_misclassified))\n",
    "accuracy = accuracy_score(y_test, y_pred)\n",
    "print('Accuracy: {:.2f}'.format(accuracy))"
   ]
  },
  {
   "cell_type": "markdown",
   "metadata": {},
   "source": [
    "### Neural Network"
   ]
  },
  {
   "cell_type": "code",
   "execution_count": 66,
   "metadata": {},
   "outputs": [
    {
     "name": "stderr",
     "output_type": "stream",
     "text": [
      "Using TensorFlow backend.\n",
      "/Users/christinachang/anaconda3/lib/python3.7/site-packages/tensorflow/python/framework/dtypes.py:516: FutureWarning: Passing (type, 1) or '1type' as a synonym of type is deprecated; in a future version of numpy, it will be understood as (type, (1,)) / '(1,)type'.\n",
      "  _np_qint8 = np.dtype([(\"qint8\", np.int8, 1)])\n",
      "/Users/christinachang/anaconda3/lib/python3.7/site-packages/tensorflow/python/framework/dtypes.py:517: FutureWarning: Passing (type, 1) or '1type' as a synonym of type is deprecated; in a future version of numpy, it will be understood as (type, (1,)) / '(1,)type'.\n",
      "  _np_quint8 = np.dtype([(\"quint8\", np.uint8, 1)])\n",
      "/Users/christinachang/anaconda3/lib/python3.7/site-packages/tensorflow/python/framework/dtypes.py:518: FutureWarning: Passing (type, 1) or '1type' as a synonym of type is deprecated; in a future version of numpy, it will be understood as (type, (1,)) / '(1,)type'.\n",
      "  _np_qint16 = np.dtype([(\"qint16\", np.int16, 1)])\n",
      "/Users/christinachang/anaconda3/lib/python3.7/site-packages/tensorflow/python/framework/dtypes.py:519: FutureWarning: Passing (type, 1) or '1type' as a synonym of type is deprecated; in a future version of numpy, it will be understood as (type, (1,)) / '(1,)type'.\n",
      "  _np_quint16 = np.dtype([(\"quint16\", np.uint16, 1)])\n",
      "/Users/christinachang/anaconda3/lib/python3.7/site-packages/tensorflow/python/framework/dtypes.py:520: FutureWarning: Passing (type, 1) or '1type' as a synonym of type is deprecated; in a future version of numpy, it will be understood as (type, (1,)) / '(1,)type'.\n",
      "  _np_qint32 = np.dtype([(\"qint32\", np.int32, 1)])\n",
      "/Users/christinachang/anaconda3/lib/python3.7/site-packages/tensorflow/python/framework/dtypes.py:525: FutureWarning: Passing (type, 1) or '1type' as a synonym of type is deprecated; in a future version of numpy, it will be understood as (type, (1,)) / '(1,)type'.\n",
      "  np_resource = np.dtype([(\"resource\", np.ubyte, 1)])\n",
      "/Users/christinachang/anaconda3/lib/python3.7/site-packages/tensorboard/compat/tensorflow_stub/dtypes.py:541: FutureWarning: Passing (type, 1) or '1type' as a synonym of type is deprecated; in a future version of numpy, it will be understood as (type, (1,)) / '(1,)type'.\n",
      "  _np_qint8 = np.dtype([(\"qint8\", np.int8, 1)])\n",
      "/Users/christinachang/anaconda3/lib/python3.7/site-packages/tensorboard/compat/tensorflow_stub/dtypes.py:542: FutureWarning: Passing (type, 1) or '1type' as a synonym of type is deprecated; in a future version of numpy, it will be understood as (type, (1,)) / '(1,)type'.\n",
      "  _np_quint8 = np.dtype([(\"quint8\", np.uint8, 1)])\n",
      "/Users/christinachang/anaconda3/lib/python3.7/site-packages/tensorboard/compat/tensorflow_stub/dtypes.py:543: FutureWarning: Passing (type, 1) or '1type' as a synonym of type is deprecated; in a future version of numpy, it will be understood as (type, (1,)) / '(1,)type'.\n",
      "  _np_qint16 = np.dtype([(\"qint16\", np.int16, 1)])\n",
      "/Users/christinachang/anaconda3/lib/python3.7/site-packages/tensorboard/compat/tensorflow_stub/dtypes.py:544: FutureWarning: Passing (type, 1) or '1type' as a synonym of type is deprecated; in a future version of numpy, it will be understood as (type, (1,)) / '(1,)type'.\n",
      "  _np_quint16 = np.dtype([(\"quint16\", np.uint16, 1)])\n",
      "/Users/christinachang/anaconda3/lib/python3.7/site-packages/tensorboard/compat/tensorflow_stub/dtypes.py:545: FutureWarning: Passing (type, 1) or '1type' as a synonym of type is deprecated; in a future version of numpy, it will be understood as (type, (1,)) / '(1,)type'.\n",
      "  _np_qint32 = np.dtype([(\"qint32\", np.int32, 1)])\n",
      "/Users/christinachang/anaconda3/lib/python3.7/site-packages/tensorboard/compat/tensorflow_stub/dtypes.py:550: FutureWarning: Passing (type, 1) or '1type' as a synonym of type is deprecated; in a future version of numpy, it will be understood as (type, (1,)) / '(1,)type'.\n",
      "  np_resource = np.dtype([(\"resource\", np.ubyte, 1)])\n"
     ]
    }
   ],
   "source": [
    "from keras.models import Sequential\n",
    "from keras.layers import Dense"
   ]
  },
  {
   "cell_type": "code",
   "execution_count": 74,
   "metadata": {},
   "outputs": [],
   "source": [
    "# define the keras model\n",
    "model = Sequential()\n",
    "model.add(Dense(7, input_dim=7, activation='relu'))\n",
    "model.add(Dense(4, activation='relu'))\n",
    "model.add(Dense(1, activation='sigmoid'))"
   ]
  },
  {
   "cell_type": "code",
   "execution_count": 75,
   "metadata": {},
   "outputs": [],
   "source": [
    "# compile the keras model\n",
    "model.compile(loss='binary_crossentropy', optimizer='adam', metrics=['accuracy'])"
   ]
  },
  {
   "cell_type": "code",
   "execution_count": 76,
   "metadata": {},
   "outputs": [
    {
     "name": "stdout",
     "output_type": "stream",
     "text": [
      "Epoch 1/150\n",
      "147/147 [==============================] - 1s 5ms/step - loss: 0.5700 - accuracy: 0.2041 \n",
      "Epoch 2/150\n",
      "147/147 [==============================] - 0s 392us/step - loss: 0.3525 - accuracy: 0.2585\n",
      "Epoch 3/150\n",
      "147/147 [==============================] - 0s 315us/step - loss: 0.1284 - accuracy: 0.2993\n",
      "Epoch 4/150\n",
      "147/147 [==============================] - 0s 332us/step - loss: -0.0933 - accuracy: 0.3129\n",
      "Epoch 5/150\n",
      "147/147 [==============================] - 0s 349us/step - loss: -0.3291 - accuracy: 0.3197\n",
      "Epoch 6/150\n",
      "147/147 [==============================] - 0s 338us/step - loss: -0.5905 - accuracy: 0.3265\n",
      "Epoch 7/150\n",
      "147/147 [==============================] - 0s 343us/step - loss: -0.8963 - accuracy: 0.3333\n",
      "Epoch 8/150\n",
      "147/147 [==============================] - 0s 303us/step - loss: -1.2310 - accuracy: 0.3333\n",
      "Epoch 9/150\n",
      "147/147 [==============================] - 0s 392us/step - loss: -1.5992 - accuracy: 0.3333\n",
      "Epoch 10/150\n",
      "147/147 [==============================] - 0s 403us/step - loss: -2.0192 - accuracy: 0.3333\n",
      "Epoch 11/150\n",
      "147/147 [==============================] - 0s 332us/step - loss: -2.4922 - accuracy: 0.3333\n",
      "Epoch 12/150\n",
      "147/147 [==============================] - 0s 426us/step - loss: -3.0079 - accuracy: 0.3333\n",
      "Epoch 13/150\n",
      "147/147 [==============================] - 0s 517us/step - loss: -3.6073 - accuracy: 0.3333\n",
      "Epoch 14/150\n",
      "147/147 [==============================] - 0s 396us/step - loss: -4.2804 - accuracy: 0.3333\n",
      "Epoch 15/150\n",
      "147/147 [==============================] - 0s 346us/step - loss: -5.0405 - accuracy: 0.3333\n",
      "Epoch 16/150\n",
      "147/147 [==============================] - 0s 373us/step - loss: -5.9169 - accuracy: 0.3333\n",
      "Epoch 17/150\n",
      "147/147 [==============================] - 0s 387us/step - loss: -6.8714 - accuracy: 0.3333\n",
      "Epoch 18/150\n",
      "147/147 [==============================] - 0s 423us/step - loss: -7.9776 - accuracy: 0.3333\n",
      "Epoch 19/150\n",
      "147/147 [==============================] - 0s 371us/step - loss: -9.2124 - accuracy: 0.3333\n",
      "Epoch 20/150\n",
      "147/147 [==============================] - 0s 321us/step - loss: -10.5437 - accuracy: 0.3333\n",
      "Epoch 21/150\n",
      "147/147 [==============================] - 0s 353us/step - loss: -12.0606 - accuracy: 0.3333\n",
      "Epoch 22/150\n",
      "147/147 [==============================] - 0s 347us/step - loss: -13.7609 - accuracy: 0.3333\n",
      "Epoch 23/150\n",
      "147/147 [==============================] - 0s 379us/step - loss: -15.6115 - accuracy: 0.3333\n",
      "Epoch 24/150\n",
      "147/147 [==============================] - 0s 390us/step - loss: -17.6439 - accuracy: 0.3333\n",
      "Epoch 25/150\n",
      "147/147 [==============================] - 0s 511us/step - loss: -19.9001 - accuracy: 0.3333\n",
      "Epoch 26/150\n",
      "147/147 [==============================] - 0s 413us/step - loss: -22.3489 - accuracy: 0.3333\n",
      "Epoch 27/150\n",
      "147/147 [==============================] - 0s 362us/step - loss: -24.9813 - accuracy: 0.3333\n",
      "Epoch 28/150\n",
      "147/147 [==============================] - 0s 423us/step - loss: -27.8204 - accuracy: 0.3333\n",
      "Epoch 29/150\n",
      "147/147 [==============================] - 0s 500us/step - loss: -31.0039 - accuracy: 0.3333\n",
      "Epoch 30/150\n",
      "147/147 [==============================] - 0s 446us/step - loss: -34.1686 - accuracy: 0.3333\n",
      "Epoch 31/150\n",
      "147/147 [==============================] - 0s 436us/step - loss: -37.7921 - accuracy: 0.3333\n",
      "Epoch 32/150\n",
      "147/147 [==============================] - 0s 437us/step - loss: -41.6091 - accuracy: 0.3333\n",
      "Epoch 33/150\n",
      "147/147 [==============================] - 0s 379us/step - loss: -45.6875 - accuracy: 0.3333\n",
      "Epoch 34/150\n",
      "147/147 [==============================] - 0s 414us/step - loss: -49.9880 - accuracy: 0.3333\n",
      "Epoch 35/150\n",
      "147/147 [==============================] - 0s 391us/step - loss: -54.6715 - accuracy: 0.3333\n",
      "Epoch 36/150\n",
      "147/147 [==============================] - 0s 346us/step - loss: -59.4197 - accuracy: 0.3333\n",
      "Epoch 37/150\n",
      "147/147 [==============================] - 0s 423us/step - loss: -64.8108 - accuracy: 0.3333\n",
      "Epoch 38/150\n",
      "147/147 [==============================] - 0s 449us/step - loss: -70.1938 - accuracy: 0.3333\n",
      "Epoch 39/150\n",
      "147/147 [==============================] - 0s 432us/step - loss: -75.9750 - accuracy: 0.3333\n",
      "Epoch 40/150\n",
      "147/147 [==============================] - 0s 492us/step - loss: -82.1105 - accuracy: 0.3333\n",
      "Epoch 41/150\n",
      "147/147 [==============================] - 0s 586us/step - loss: -88.3756 - accuracy: 0.3333\n",
      "Epoch 42/150\n",
      "147/147 [==============================] - 0s 464us/step - loss: -95.4486 - accuracy: 0.3333\n",
      "Epoch 43/150\n",
      "147/147 [==============================] - 0s 555us/step - loss: -102.2750 - accuracy: 0.3333\n",
      "Epoch 44/150\n",
      "147/147 [==============================] - 0s 515us/step - loss: -109.6928 - accuracy: 0.3333\n",
      "Epoch 45/150\n",
      "147/147 [==============================] - 0s 373us/step - loss: -117.5931 - accuracy: 0.3333\n",
      "Epoch 46/150\n",
      "147/147 [==============================] - 0s 388us/step - loss: -125.6431 - accuracy: 0.3333\n",
      "Epoch 47/150\n",
      "147/147 [==============================] - 0s 425us/step - loss: -133.8081 - accuracy: 0.3333\n",
      "Epoch 48/150\n",
      "147/147 [==============================] - 0s 389us/step - loss: -142.9110 - accuracy: 0.3333\n",
      "Epoch 49/150\n",
      "147/147 [==============================] - 0s 393us/step - loss: -151.9332 - accuracy: 0.3333\n",
      "Epoch 50/150\n",
      "147/147 [==============================] - 0s 386us/step - loss: -161.3184 - accuracy: 0.3333\n",
      "Epoch 51/150\n",
      "147/147 [==============================] - 0s 471us/step - loss: -171.3143 - accuracy: 0.3333\n",
      "Epoch 52/150\n",
      "147/147 [==============================] - 0s 410us/step - loss: -181.1833 - accuracy: 0.3333\n",
      "Epoch 53/150\n",
      "147/147 [==============================] - 0s 387us/step - loss: -191.9603 - accuracy: 0.3333\n",
      "Epoch 54/150\n",
      "147/147 [==============================] - 0s 377us/step - loss: -202.9482 - accuracy: 0.3333\n",
      "Epoch 55/150\n",
      "147/147 [==============================] - 0s 391us/step - loss: -214.4155 - accuracy: 0.3333\n",
      "Epoch 56/150\n",
      "147/147 [==============================] - 0s 349us/step - loss: -225.4025 - accuracy: 0.3333\n",
      "Epoch 57/150\n",
      "147/147 [==============================] - 0s 346us/step - loss: -237.9809 - accuracy: 0.3333\n",
      "Epoch 58/150\n",
      "147/147 [==============================] - 0s 369us/step - loss: -250.2589 - accuracy: 0.3333\n",
      "Epoch 59/150\n",
      "147/147 [==============================] - 0s 350us/step - loss: -263.0507 - accuracy: 0.3333\n",
      "Epoch 60/150\n",
      "147/147 [==============================] - 0s 350us/step - loss: -276.0774 - accuracy: 0.3333\n",
      "Epoch 61/150\n",
      "147/147 [==============================] - 0s 376us/step - loss: -289.4672 - accuracy: 0.3333\n",
      "Epoch 62/150\n",
      "147/147 [==============================] - 0s 338us/step - loss: -303.7570 - accuracy: 0.3333\n",
      "Epoch 63/150\n",
      "147/147 [==============================] - 0s 340us/step - loss: -318.1065 - accuracy: 0.3333\n",
      "Epoch 64/150\n",
      "147/147 [==============================] - 0s 355us/step - loss: -332.6712 - accuracy: 0.3333\n",
      "Epoch 65/150\n",
      "147/147 [==============================] - 0s 308us/step - loss: -348.0623 - accuracy: 0.3333\n",
      "Epoch 66/150\n",
      "147/147 [==============================] - 0s 276us/step - loss: -363.9962 - accuracy: 0.3333\n",
      "Epoch 67/150\n",
      "147/147 [==============================] - 0s 274us/step - loss: -379.4574 - accuracy: 0.3333\n",
      "Epoch 68/150\n",
      "147/147 [==============================] - 0s 304us/step - loss: -396.5092 - accuracy: 0.3333\n",
      "Epoch 69/150\n",
      "147/147 [==============================] - 0s 392us/step - loss: -413.0268 - accuracy: 0.3333\n",
      "Epoch 70/150\n",
      "147/147 [==============================] - 0s 375us/step - loss: -430.6513 - accuracy: 0.3333\n",
      "Epoch 71/150\n",
      "147/147 [==============================] - 0s 289us/step - loss: -448.1814 - accuracy: 0.3333\n",
      "Epoch 72/150\n",
      "147/147 [==============================] - 0s 324us/step - loss: -466.7558 - accuracy: 0.3333\n",
      "Epoch 73/150\n",
      "147/147 [==============================] - 0s 433us/step - loss: -485.3575 - accuracy: 0.3333\n",
      "Epoch 74/150\n",
      "147/147 [==============================] - 0s 322us/step - loss: -505.0171 - accuracy: 0.3333\n",
      "Epoch 75/150\n",
      "147/147 [==============================] - 0s 359us/step - loss: -524.4776 - accuracy: 0.3333\n",
      "Epoch 76/150\n",
      "147/147 [==============================] - 0s 298us/step - loss: -545.0509 - accuracy: 0.3333\n",
      "Epoch 77/150\n",
      "147/147 [==============================] - 0s 357us/step - loss: -565.3309 - accuracy: 0.3333\n",
      "Epoch 78/150\n"
     ]
    },
    {
     "name": "stdout",
     "output_type": "stream",
     "text": [
      "147/147 [==============================] - 0s 370us/step - loss: -586.2216 - accuracy: 0.3333\n",
      "Epoch 79/150\n",
      "147/147 [==============================] - 0s 342us/step - loss: -608.1487 - accuracy: 0.3333\n",
      "Epoch 80/150\n",
      "147/147 [==============================] - 0s 324us/step - loss: -629.0962 - accuracy: 0.3333\n",
      "Epoch 81/150\n",
      "147/147 [==============================] - 0s 271us/step - loss: -652.1962 - accuracy: 0.3333\n",
      "Epoch 82/150\n",
      "147/147 [==============================] - 0s 281us/step - loss: -675.7540 - accuracy: 0.3333\n",
      "Epoch 83/150\n",
      "147/147 [==============================] - 0s 281us/step - loss: -698.6271 - accuracy: 0.3333\n",
      "Epoch 84/150\n",
      "147/147 [==============================] - 0s 294us/step - loss: -722.4756 - accuracy: 0.3333\n",
      "Epoch 85/150\n",
      "147/147 [==============================] - 0s 273us/step - loss: -747.3014 - accuracy: 0.3333\n",
      "Epoch 86/150\n",
      "147/147 [==============================] - 0s 272us/step - loss: -772.1727 - accuracy: 0.3333\n",
      "Epoch 87/150\n",
      "147/147 [==============================] - 0s 280us/step - loss: -797.3170 - accuracy: 0.3333\n",
      "Epoch 88/150\n",
      "147/147 [==============================] - 0s 270us/step - loss: -823.9543 - accuracy: 0.3333\n",
      "Epoch 89/150\n",
      "147/147 [==============================] - 0s 278us/step - loss: -850.1036 - accuracy: 0.3333\n",
      "Epoch 90/150\n",
      "147/147 [==============================] - 0s 293us/step - loss: -877.0666 - accuracy: 0.3333\n",
      "Epoch 91/150\n",
      "147/147 [==============================] - 0s 250us/step - loss: -904.8170 - accuracy: 0.3333\n",
      "Epoch 92/150\n",
      "147/147 [==============================] - 0s 270us/step - loss: -932.2812 - accuracy: 0.3333\n",
      "Epoch 93/150\n",
      "147/147 [==============================] - 0s 267us/step - loss: -961.3546 - accuracy: 0.3333\n",
      "Epoch 94/150\n",
      "147/147 [==============================] - 0s 276us/step - loss: -990.0509 - accuracy: 0.3333\n",
      "Epoch 95/150\n",
      "147/147 [==============================] - 0s 258us/step - loss: -1019.6915 - accuracy: 0.3333\n",
      "Epoch 96/150\n",
      "147/147 [==============================] - 0s 350us/step - loss: -1049.4774 - accuracy: 0.3333\n",
      "Epoch 97/150\n",
      "147/147 [==============================] - 0s 337us/step - loss: -1079.5901 - accuracy: 0.3333\n",
      "Epoch 98/150\n",
      "147/147 [==============================] - 0s 464us/step - loss: -1110.6634 - accuracy: 0.3333\n",
      "Epoch 99/150\n",
      "147/147 [==============================] - 0s 424us/step - loss: -1142.8836 - accuracy: 0.3333\n",
      "Epoch 100/150\n",
      "147/147 [==============================] - 0s 381us/step - loss: -1174.0790 - accuracy: 0.3333\n",
      "Epoch 101/150\n",
      "147/147 [==============================] - 0s 338us/step - loss: -1206.9557 - accuracy: 0.3333\n",
      "Epoch 102/150\n",
      "147/147 [==============================] - 0s 377us/step - loss: -1239.6360 - accuracy: 0.3333\n",
      "Epoch 103/150\n",
      "147/147 [==============================] - 0s 315us/step - loss: -1275.0223 - accuracy: 0.3333\n",
      "Epoch 104/150\n",
      "147/147 [==============================] - 0s 303us/step - loss: -1308.0519 - accuracy: 0.3333\n",
      "Epoch 105/150\n",
      "147/147 [==============================] - ETA: 0s - loss: -1442.5137 - accuracy: 0.20 - 0s 289us/step - loss: -1342.7863 - accuracy: 0.3333\n",
      "Epoch 106/150\n",
      "147/147 [==============================] - ETA: 0s - loss: -1033.7866 - accuracy: 0.30 - 0s 340us/step - loss: -1379.0393 - accuracy: 0.3333\n",
      "Epoch 107/150\n",
      "147/147 [==============================] - 0s 314us/step - loss: -1414.2788 - accuracy: 0.3333\n",
      "Epoch 108/150\n",
      "147/147 [==============================] - 0s 275us/step - loss: -1451.0407 - accuracy: 0.3333\n",
      "Epoch 109/150\n",
      "147/147 [==============================] - 0s 282us/step - loss: -1488.4905 - accuracy: 0.3333\n",
      "Epoch 110/150\n",
      "147/147 [==============================] - 0s 374us/step - loss: -1525.2157 - accuracy: 0.3333\n",
      "Epoch 111/150\n",
      "147/147 [==============================] - 0s 320us/step - loss: -1562.7644 - accuracy: 0.3333\n",
      "Epoch 112/150\n",
      "147/147 [==============================] - 0s 333us/step - loss: -1602.1845 - accuracy: 0.3333\n",
      "Epoch 113/150\n",
      "147/147 [==============================] - 0s 345us/step - loss: -1641.5193 - accuracy: 0.3333\n",
      "Epoch 114/150\n",
      "147/147 [==============================] - 0s 309us/step - loss: -1680.4052 - accuracy: 0.3333\n",
      "Epoch 115/150\n",
      "147/147 [==============================] - 0s 324us/step - loss: -1721.4908 - accuracy: 0.3333\n",
      "Epoch 116/150\n",
      "147/147 [==============================] - 0s 325us/step - loss: -1762.2637 - accuracy: 0.3333\n",
      "Epoch 117/150\n",
      "147/147 [==============================] - 0s 344us/step - loss: -1803.3050 - accuracy: 0.3333\n",
      "Epoch 118/150\n",
      "147/147 [==============================] - 0s 342us/step - loss: -1844.7666 - accuracy: 0.3333\n",
      "Epoch 119/150\n",
      "147/147 [==============================] - 0s 320us/step - loss: -1888.5815 - accuracy: 0.3333\n",
      "Epoch 120/150\n",
      "147/147 [==============================] - 0s 362us/step - loss: -1932.0529 - accuracy: 0.3333\n",
      "Epoch 121/150\n",
      "147/147 [==============================] - 0s 301us/step - loss: -1974.5035 - accuracy: 0.3333\n",
      "Epoch 122/150\n",
      "147/147 [==============================] - 0s 331us/step - loss: -2019.2227 - accuracy: 0.3333\n",
      "Epoch 123/150\n",
      "147/147 [==============================] - 0s 297us/step - loss: -2063.7687 - accuracy: 0.3333\n",
      "Epoch 124/150\n",
      "147/147 [==============================] - 0s 340us/step - loss: -2109.5045 - accuracy: 0.3333\n",
      "Epoch 125/150\n",
      "147/147 [==============================] - 0s 574us/step - loss: -2155.1108 - accuracy: 0.3333\n",
      "Epoch 126/150\n",
      "147/147 [==============================] - 0s 373us/step - loss: -2201.6085 - accuracy: 0.3333\n",
      "Epoch 127/150\n",
      "147/147 [==============================] - 0s 260us/step - loss: -2249.3157 - accuracy: 0.3333\n",
      "Epoch 128/150\n",
      "147/147 [==============================] - 0s 276us/step - loss: -2295.2980 - accuracy: 0.3333\n",
      "Epoch 129/150\n",
      "147/147 [==============================] - 0s 248us/step - loss: -2344.1199 - accuracy: 0.3333\n",
      "Epoch 130/150\n",
      "147/147 [==============================] - 0s 270us/step - loss: -2392.4311 - accuracy: 0.3333\n",
      "Epoch 131/150\n",
      "147/147 [==============================] - 0s 270us/step - loss: -2442.4359 - accuracy: 0.3333\n",
      "Epoch 132/150\n",
      "147/147 [==============================] - 0s 273us/step - loss: -2491.7124 - accuracy: 0.3333\n",
      "Epoch 133/150\n",
      "147/147 [==============================] - 0s 324us/step - loss: -2541.7040 - accuracy: 0.3333\n",
      "Epoch 134/150\n",
      "147/147 [==============================] - 0s 238us/step - loss: -2592.1062 - accuracy: 0.3333\n",
      "Epoch 135/150\n",
      "147/147 [==============================] - 0s 270us/step - loss: -2645.0266 - accuracy: 0.3333\n",
      "Epoch 136/150\n",
      "147/147 [==============================] - 0s 295us/step - loss: -2697.5407 - accuracy: 0.3333\n",
      "Epoch 137/150\n",
      "147/147 [==============================] - 0s 264us/step - loss: -2749.9926 - accuracy: 0.3333\n",
      "Epoch 138/150\n",
      "147/147 [==============================] - 0s 252us/step - loss: -2803.0265 - accuracy: 0.3333\n",
      "Epoch 139/150\n",
      "147/147 [==============================] - 0s 620us/step - loss: -2855.8870 - accuracy: 0.3333\n",
      "Epoch 140/150\n",
      "147/147 [==============================] - 0s 355us/step - loss: -2910.7427 - accuracy: 0.3333\n",
      "Epoch 141/150\n",
      "147/147 [==============================] - 0s 250us/step - loss: -2967.5851 - accuracy: 0.3333\n",
      "Epoch 142/150\n",
      "147/147 [==============================] - 0s 301us/step - loss: -3022.2737 - accuracy: 0.3333\n",
      "Epoch 143/150\n",
      "147/147 [==============================] - 0s 295us/step - loss: -3078.2772 - accuracy: 0.3333\n",
      "Epoch 144/150\n",
      "147/147 [==============================] - 0s 288us/step - loss: -3136.5784 - accuracy: 0.3333\n",
      "Epoch 145/150\n",
      "147/147 [==============================] - 0s 270us/step - loss: -3193.5814 - accuracy: 0.3333\n",
      "Epoch 146/150\n",
      "147/147 [==============================] - 0s 456us/step - loss: -3252.1898 - accuracy: 0.3333\n",
      "Epoch 147/150\n",
      "147/147 [==============================] - 0s 376us/step - loss: -3311.7497 - accuracy: 0.3333\n",
      "Epoch 148/150\n",
      "147/147 [==============================] - 0s 404us/step - loss: -3370.7419 - accuracy: 0.3333\n",
      "Epoch 149/150\n",
      "147/147 [==============================] - 0s 445us/step - loss: -3431.1167 - accuracy: 0.3333\n",
      "Epoch 150/150\n",
      "147/147 [==============================] - 0s 373us/step - loss: -3490.8292 - accuracy: 0.3333\n"
     ]
    },
    {
     "data": {
      "text/plain": [
       "<keras.callbacks.callbacks.History at 0x1a4a166b90>"
      ]
     },
     "execution_count": 76,
     "metadata": {},
     "output_type": "execute_result"
    }
   ],
   "source": [
    "# fit the keras model on the dataset\n",
    "model.fit(X_train, y_train, epochs=150, batch_size=10)"
   ]
  },
  {
   "cell_type": "code",
   "execution_count": 77,
   "metadata": {},
   "outputs": [
    {
     "name": "stdout",
     "output_type": "stream",
     "text": [
      "210/210 [==============================] - 0s 573us/step\n",
      "Accuracy: 33.33\n"
     ]
    }
   ],
   "source": [
    "# evaluate the keras model\n",
    "_, accuracy = model.evaluate(X, y)\n",
    "print('Accuracy: %.2f' % (accuracy*100))"
   ]
  },
  {
   "cell_type": "code",
   "execution_count": null,
   "metadata": {},
   "outputs": [],
   "source": []
  }
 ],
 "metadata": {
  "kernelspec": {
   "display_name": "Python 3",
   "language": "python",
   "name": "python3"
  },
  "language_info": {
   "codemirror_mode": {
    "name": "ipython",
    "version": 3
   },
   "file_extension": ".py",
   "mimetype": "text/x-python",
   "name": "python",
   "nbconvert_exporter": "python",
   "pygments_lexer": "ipython3",
   "version": "3.7.6"
  }
 },
 "nbformat": 4,
 "nbformat_minor": 4
}
